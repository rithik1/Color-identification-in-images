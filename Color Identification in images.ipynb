{
 "cells": [
  {
   "cell_type": "code",
   "execution_count": 2,
   "id": "c64e2de9-9f6a-49d9-9788-1ec62778e9b3",
   "metadata": {},
   "outputs": [
    {
     "name": "stdout",
     "output_type": "stream",
     "text": [
      "Requirement already satisfied: opencv-python in c:\\users\\dell\\appdata\\local\\programs\\python\\python39\\lib\\site-packages (4.5.2.54)\n",
      "Requirement already satisfied: numpy>=1.19.3 in c:\\users\\dell\\appdata\\local\\programs\\python\\python39\\lib\\site-packages (from opencv-python) (1.20.3)\n",
      "Note: you may need to restart the kernel to use updated packages.\n"
     ]
    },
    {
     "name": "stderr",
     "output_type": "stream",
     "text": [
      "WARNING: You are using pip version 21.1.1; however, version 21.1.2 is available.\n",
      "You should consider upgrading via the 'c:\\users\\dell\\appdata\\local\\programs\\python\\python39\\python.exe -m pip install --upgrade pip' command.\n"
     ]
    }
   ],
   "source": [
    "pip install opencv-python"
   ]
  },
  {
   "cell_type": "code",
   "execution_count": 3,
   "id": "3a7f37d1-dcf7-4874-af23-2d4bdc7b2c6a",
   "metadata": {},
   "outputs": [],
   "source": [
    "import pandas as pd\n",
    "import cv2"
   ]
  },
  {
   "cell_type": "code",
   "execution_count": 4,
   "id": "47abb0ab-2829-4a24-88f4-b21957989814",
   "metadata": {},
   "outputs": [],
   "source": [
    "img_path='pexels-lisa-8299378.jpg'\n",
    "\n",
    "csv_path='colors (1).csv'"
   ]
  },
  {
   "cell_type": "code",
   "execution_count": 5,
   "id": "1b82b909-e7d1-4c57-b7f8-83f86f5cba77",
   "metadata": {},
   "outputs": [],
   "source": [
    "index= ['color','color_name','hex','R','G','B']\n",
    "df=pd.read_csv(csv_path,names=index,header=None)"
   ]
  },
  {
   "cell_type": "code",
   "execution_count": 6,
   "id": "8ffdb5c0-f772-4d10-872d-cb2489a8b66a",
   "metadata": {},
   "outputs": [],
   "source": [
    "img= cv2.imread(img_path)\n",
    "img= cv2.resize(img,(800,600))"
   ]
  },
  {
   "cell_type": "code",
   "execution_count": 7,
   "id": "b6e3fe20-c0c3-493e-9eef-58c208bf4887",
   "metadata": {},
   "outputs": [],
   "source": [
    "clicked=False\n",
    "r=g=b=ypos=0"
   ]
  },
  {
   "cell_type": "code",
   "execution_count": 8,
   "id": "ce35703d-2516-4e6f-a6cf-7f34d3ae1876",
   "metadata": {},
   "outputs": [],
   "source": [
    "def get_color_name(R,G,B):\n",
    "  minimum=1000\n",
    "  for i in range(len(df)):\n",
    "    d=abs(R-int(df.loc[i,'R']))+abs(G-int(df.loc[i,'G']))+abs(B-int(df.loc[i,'B']))\n",
    "    if d<= minimum:\n",
    "      minimum=d\n",
    "      cname=df.loc[i,'color_name']\n",
    "  return cname"
   ]
  },
  {
   "cell_type": "code",
   "execution_count": 9,
   "id": "b9f690da-786e-4091-80f2-6a8bb69b0630",
   "metadata": {},
   "outputs": [],
   "source": [
    "def draw(event,x,y,flags,params):\n",
    "  if event==cv2.EVENT_LBUTTONDBLCLK:\n",
    "    global clicked,r,g,b,xpos,ypos\n",
    "    clicked=True\n",
    "    xpos=x\n",
    "    ypos=ypos\n",
    "    b,g,r=img[y,x]\n",
    "    b=int(b)\n",
    "    g=int(g)\n",
    "    r=int(r)"
   ]
  },
  {
   "cell_type": "code",
   "execution_count": null,
   "id": "c0ca02a5-c676-43e4-8acb-4e36d28b4a13",
   "metadata": {},
   "outputs": [],
   "source": [
    "cv2.namedWindow('Image')\n",
    "cv2.setMouseCallback('Image',draw)\n",
    "while True:\n",
    "  cv2.imshow('Image',img)\n",
    "  if clicked:\n",
    "    cv2.rectangle(img,(20,20),(600,600),(b,g,r),-1)\n",
    "    text=get_color_name(r,g,b)+' R='+str(r)+' G='+str(g)+' B='+str(b)\n",
    "    cv2.putText(img,text,(50,50),2,0.8,(255,255,255),2,cv2.LINE_AA)\n",
    "    if r+g+b >= 600:\n",
    "      cv2.putText(img,text,(50,50),2,0.8,(0,0,0),2,cv2.LINE_AA)\n",
    "  if(cv2.waitKey(10) and 0xFF == 27):\n",
    "    break"
   ]
  },
  {
   "cell_type": "code",
   "execution_count": null,
   "id": "57db402d-ab0e-48b3-af1a-c252312331dc",
   "metadata": {},
   "outputs": [],
   "source": []
  }
 ],
 "metadata": {
  "kernelspec": {
   "display_name": "Python 3",
   "language": "python",
   "name": "python3"
  },
  "language_info": {
   "codemirror_mode": {
    "name": "ipython",
    "version": 3
   },
   "file_extension": ".py",
   "mimetype": "text/x-python",
   "name": "python",
   "nbconvert_exporter": "python",
   "pygments_lexer": "ipython3",
   "version": "3.9.5"
  }
 },
 "nbformat": 4,
 "nbformat_minor": 5
}
